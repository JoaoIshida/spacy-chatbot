{
 "cells": [
  {
   "cell_type": "code",
   "execution_count": 19,
   "metadata": {},
   "outputs": [],
   "source": [
    "import spacy\n",
    "from weather_bot import get_weather\n",
    "nlp = spacy.load(\"en_core_web_md\")"
   ]
  },
  {
   "cell_type": "code",
   "execution_count": 20,
   "metadata": {},
   "outputs": [],
   "source": [
    "def get_weather(city=\"London\"):\n",
    "    api_url = \"http://api.openweathermap.org/data/2.5/weather?q={}%appid={}\".format(city, api_key)\n",
    "\n",
    "    response = requests.get(api_url)\n",
    "    response_dict = response.json()\n",
    "\n",
    "    weather = response_dict[\"weather\"][0][\"description\"]\n",
    "\n",
    "    print(weather)\n",
    "\n",
    "    if response.status_code == 200:\n",
    "        return weather\n",
    "    else:\n",
    "        print('[!] HTTP {0} callin [{1}]'.format(response.status_code, api_url))\n",
    "        return None"
   ]
  }
 ],
 "metadata": {
  "kernelspec": {
   "display_name": "Python 3",
   "language": "python",
   "name": "python3"
  },
  "language_info": {
   "codemirror_mode": {
    "name": "ipython",
    "version": 3
   },
   "file_extension": ".py",
   "mimetype": "text/x-python",
   "name": "python",
   "nbconvert_exporter": "python",
   "pygments_lexer": "ipython3",
   "version": "3.12.4"
  }
 },
 "nbformat": 4,
 "nbformat_minor": 2
}
